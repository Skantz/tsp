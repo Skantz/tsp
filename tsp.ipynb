{
 "cells": [
  {
   "cell_type": "code",
   "execution_count": null,
   "metadata": {},
   "outputs": [],
   "source": [
    "#empty"
   ]
  },
  {
   "cell_type": "code",
   "execution_count": null,
   "metadata": {},
   "outputs": [],
   "source": [
    "#sample input\n",
    "\n",
    "sample_in = \"\"\"10\n",
    "95.0129 61.5432\n",
    "23.1139 79.1937\n",
    "60.6843 92.1813\n",
    "48.5982 73.8207\n",
    "89.1299 17.6266\n",
    "76.2097 40.5706\n",
    "45.6468 93.5470\n",
    "1.8504 91.6904\n",
    "82.1407 41.0270\n",
    "44.4703 89.3650\"\"\"\n",
    "\n",
    "\n"
   ]
  },
  {
   "cell_type": "code",
   "execution_count": null,
   "metadata": {},
   "outputs": [],
   "source": []
  },
  {
   "cell_type": "code",
   "execution_count": null,
   "metadata": {},
   "outputs": [],
   "source": [
    "def read_from_stdio():\n",
    "    str = input()\n",
    "    return str\n",
    "\n",
    "def io_to_dist_matrix(inp_string):\n",
    "    inp = inp_string.split(\"\\n\")\n",
    "    n, inp = int(inp[0]), [e.split(\" \") for e in inp[1:]]\n",
    "    print(inp)\n",
    "    inp = [[float(e) for e in inp_] for inp_ in inp]\n",
    "\n",
    "    dist = [[0 for _ in range(n)] for _ in range(n)]\n",
    "    for i, (x1, y1) in enumerate(inp):\n",
    "        for j, (x2, y2) in enumerate(inp):\n",
    "            dist[i][j] = round(((x1 - x2)**2 + (y1 - y2)**2) **0.5)\n",
    "\n",
    "    return dist, inp\n",
    "\n",
    "def tour_cost(dm, tour):\n",
    "    c = 0.\n",
    "    for i, v in enumerate(tour[:-1]):\n",
    "        c += dm[v][tour[i + 1]]\n",
    "    return c\n",
    "\n",
    "\n",
    "def greedy_tour(dist):\n",
    "    n = len(dist)\n",
    "    assert(n > 0)\n",
    "    tour = [0]\n",
    "    used = set([0])\n",
    "    for i in range(1, n):\n",
    "        neighbor_costs = [dist[i][j] if j != i and j not in used else max(dist[i]) + 1 for j in range(n)]\n",
    "        nm = neighbor_costs.index(min(neighbor_costs))\n",
    "        tour.append(nm)\n",
    "        used.add(nm)\n",
    "\n",
    "    return tour\n",
    "\n",
    "def two_opt(dm, tour):\n",
    "    n = len(dm)\n",
    "\n",
    "    for i, v1 in enumerate(tour):\n",
    "        for j, v2 in enumerate(tour):\n",
    "            if j <= i:\n",
    "                continue\n",
    "            x1c = dm[v1][tour[(i + 1) % n]]\n",
    "            x2c = dm[tour[(j - 1) % n]][v2]\n",
    "            y1c = dm[v1][tour[(j - 1) % n]]\n",
    "            y2c = dm[tour[(i + 1) % n]][tour[j]]\n",
    "            if (x1c + x2c > y1c + y2c):\n",
    "                tour[i:j] = tour[i:j][::-1]\n",
    "    #for i, v in\n",
    "    return tour\n",
    "\n",
    "def main():\n",
    "    str = sample_in\n",
    "    dist, point_matrix = io_to_dist_matrix(str)\n",
    "    tour = greedy_tour(dist)\n",
    "    print(tour)\n",
    "    print(tour_cost(dist, tour))\n",
    "\n",
    "    #from Christofides.Christofides import christofides\n",
    "    import ChristofidesAlgorithm.christofides as christofides\n",
    "    TSP =  christofides.tsp(point_matrix)\n",
    "\n",
    "    print(TSP[-1])\n",
    "\n",
    "    for i in range(10):\n",
    "        print(tour_cost(dist, tour))\n",
    "        tour = two_opt(dist, tour)\n",
    "\n",
    "    for t in tour:\n",
    "        print(t)\n",
    "\n",
    "if __name__ == \"__main__\":\n",
    "    main()\n"
   ]
  },
  {
   "cell_type": "code",
   "execution_count": null,
   "metadata": {},
   "outputs": [],
   "source": []
  },
  {
   "cell_type": "code",
   "execution_count": null,
   "metadata": {},
   "outputs": [],
   "source": []
  },
  {
   "cell_type": "markdown",
   "metadata": {},
   "source": []
  },
  {
   "cell_type": "code",
   "execution_count": null,
   "metadata": {},
   "outputs": [],
   "source": []
  },
  {
   "cell_type": "code",
   "execution_count": null,
   "metadata": {},
   "outputs": [],
   "source": [
    "#%%capture output\n",
    "!python3 submit.py -p tsp -m tsp.cpp -l c++ -f *.cpp *.h\n",
    "\n",
    "#Submission received. Submission ID: XXXXX\n",
    "#Open in browser (y/N)?"
   ]
  },
  {
   "cell_type": "code",
   "execution_count": null,
   "metadata": {},
   "outputs": [],
   "source": [
    "print(output)\n",
    "#['Submission received. Submission ID: XXXXX.\\r'\n",
    "submission_id = str(output).strip('\\r')\n",
    "submission_id = submission_id.split(\"\\n\")[0].split(\" \")[-1]\n",
    "submission_id = submission_id[:-2]\n",
    "\n",
    "url = \"open.kattis.com/submission/\" + submission_id\n",
    "print(url)\n",
    "!curl $url"
   ]
  },
  {
   "cell_type": "code",
   "execution_count": null,
   "metadata": {},
   "outputs": [],
   "source": []
  }
 ],
 "metadata": {
  "language_info": {
   "codemirror_mode": {
    "name": "ipython",
    "version": 3
   },
   "file_extension": ".py",
   "mimetype": "text/x-python",
   "name": "python",
   "nbconvert_exporter": "python",
   "pygments_lexer": "ipython3",
   "version": "3.7.3-final"
  },
  "orig_nbformat": 2,
  "kernelspec": {
   "name": "python3",
   "display_name": "Python 3"
  }
 },
 "nbformat": 4,
 "nbformat_minor": 2
}
