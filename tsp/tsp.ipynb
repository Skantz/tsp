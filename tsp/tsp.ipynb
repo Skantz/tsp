{
 "cells": [
  {
   "cell_type": "code",
   "execution_count": null,
   "metadata": {},
   "outputs": [],
   "source": [
    "#empty"
   ]
  },
  {
   "cell_type": "code",
   "execution_count": null,
   "metadata": {},
   "outputs": [],
   "source": [
    "#sample input\n",
    "\n",
    "sample_in = \"\"\"10\n",
    "95.0129 61.5432\n",
    "23.1139 79.1937\n",
    "60.6843 92.1813\n",
    "48.5982 73.8207\n",
    "89.1299 17.6266\n",
    "76.2097 40.5706\n",
    "45.6468 93.5470\n",
    "1.8504 91.6904\n",
    "82.1407 41.0270\n",
    "44.4703 89.3650\"\"\"\n",
    "\n",
    "\n"
   ]
  },
  {
   "cell_type": "code",
   "execution_count": null,
   "metadata": {},
   "outputs": [],
   "source": []
  },
  {
   "cell_type": "code",
   "execution_count": null,
   "metadata": {},
   "outputs": [],
   "source": []
  },
  {
   "cell_type": "code",
   "execution_count": null,
   "metadata": {},
   "outputs": [],
   "source": [
    "def read_from_stdio():\n",
    "    str_ = input()\n",
    "    return str_\n",
    "\n",
    "def io_to_dist_matrix(inp_string):\n",
    "    inp = inp_string.split(\"\\n\")\n",
    "    n, inp = int(inp[0]), [e.split(\" \") for e in inp[1:]]\n",
    "    #print(inp)\n",
    "    inp = [[float(e) for e in inp_] for inp_ in inp]\n",
    "\n",
    "    dist = [[0 for _ in range(n)] for _ in range(n)]\n",
    "    for i, (x1, y1) in enumerate(inp):\n",
    "        for j, (x2, y2) in enumerate(inp):\n",
    "            dist[i][j] = round(((x1 - x2)**2 + (y1 - y2)**2) **0.5)\n",
    "\n",
    "    return dist, inp\n",
    "\n",
    "def tour_cost(dm, tour, wrap=True):\n",
    "    c = 0.\n",
    "    n = len(dm)\n",
    "    for i, v in enumerate([tour, tour[:-1]][int(wrap==False)]):\n",
    "        c += dm[v][tour[(i + 1) % n]]\n",
    "    return c\n",
    "\n",
    "\n",
    "def greedy_tour(dist):\n",
    "    n = len(dist)\n",
    "    assert(n > 0)\n",
    "    tour = [0]\n",
    "    used = set([0])\n",
    "    for i in range(1, n):\n",
    "        neighbor_costs = [dist[i][j] if j != i and j not in used else max(dist[i]) + 1 for j in range(n)]\n",
    "        nm = neighbor_costs.index(min(neighbor_costs))\n",
    "        tour.append(nm)\n",
    "        used.add(nm)\n",
    "\n",
    "    return tour\n",
    "\n",
    "def two_opt(dm, tour):\n",
    "    n = len(dm)\n",
    "\n",
    "    for i, v1 in enumerate(tour):\n",
    "        for j, v2 in enumerate(tour):\n",
    "            if j <= i:\n",
    "                continue\n",
    "            x1c = dm[v1][tour[(i + 1) % n]]\n",
    "            x2c = dm[tour[(j - 1) % n]][v2]\n",
    "            y1c = dm[v1][tour[(j - 1) % n]]\n",
    "            y2c = dm[tour[(i + 1) % n]][tour[j]]\n",
    "            if (x1c + x2c > y1c + y2c):\n",
    "                tour[i:j] = tour[i:j][::-1]\n",
    "    #for i, v in\n",
    "    return tour\n",
    "\n",
    "def opt(dist, tour):\n",
    "    tour = greedy_tour(dist)\n",
    "    for i in range(15):\n",
    "        tour = two_opt(dist, tour)\n",
    "\n",
    "    return tour\n",
    "\n",
    "def main():\n",
    "    str = sample_in\n",
    "    #str = read_from_stdio()\n",
    "    dist, point_matrix = io_to_dist_matrix(str)\n",
    "\n",
    "    tour = greedy_tour(dist)\n",
    "    tour = opt(dist, tour)\n",
    "\n",
    "    for t in tour:\n",
    "        print(t,end=\"\\n\")\n",
    "\n",
    "    #print(tour_cost(dist, [9, 6, 2, 9, 3, 5, 8, 4, 7, 1, 9], wrap=False))\n",
    "    #they got this to be 264.70\n",
    "\n",
    "if __name__ == \"__main__\":\n",
    "    main()\n"
   ]
  },
  {
   "cell_type": "code",
   "execution_count": null,
   "metadata": {},
   "outputs": [],
   "source": []
  },
  {
   "cell_type": "code",
   "execution_count": null,
   "metadata": {},
   "outputs": [],
   "source": [
    "def random_dist_matrix(n, x_scale, y_scale):\n",
    "    import random\n",
    "\n",
    "    matrix = [[0, 0] for _ in range(n)]\n",
    "    for i in range(n):\n",
    "        x, y = random.random() * x_scale, random.random() * y_scale\n",
    "        matrix[i][0] = x\n",
    "        matrix[i][1] = y\n",
    "\n",
    "    dist_matrix = [[0 for _ in range(n)] for _ in range(n)]\n",
    "    for i, xy1 in enumerate(matrix):\n",
    "        for j, xy2 in enumerate(matrix):\n",
    "            x1 = xy1[0]\n",
    "            y1 = xy1[1]\n",
    "            x2 = xy2[0]\n",
    "            y2 = xy2[1]\n",
    "            dist_matrix[i][j] = round(((x1 - x2)**2 + (y1 - y2)**2) **0.5)\n",
    "\n",
    "    dist_str = str(n) + \"\\n\"\n",
    "    for x, y in matrix:\n",
    "        dist_str += str(x) + \" \" + str(y) + \"\\n\"\n",
    "\n",
    "    return dist_matrix, dist_str\n",
    "\n",
    "dist, dist_str = random_dist_matrix(500, 10000, 10000)\n",
    "#print(dist)\n",
    "#tour = greedy_tour(dist)\n",
    "#tour = opt(dist, tour)\n",
    "\n",
    "#for t in tour:\n",
    "#    print(t,end=\"\\n\")\n",
    "\n",
    "!g++ main.cpp\n",
    "!echo \"$dist_str\" | ./a.out"
   ]
  },
  {
   "cell_type": "code",
   "execution_count": null,
   "metadata": {},
   "outputs": [],
   "source": [
    "\n",
    "\n",
    "!cat t.txt | python tsp.py"
   ]
  },
  {
   "cell_type": "markdown",
   "metadata": {},
   "source": []
  },
  {
   "cell_type": "code",
   "execution_count": null,
   "metadata": {},
   "outputs": [],
   "source": []
  },
  {
   "cell_type": "code",
   "execution_count": null,
   "metadata": {},
   "outputs": [],
   "source": [
    "#%%capture output\n",
    "#!python3 submit.py -p tsp -m tsp.cpp -l c++ -f *.cpp *.h\n",
    "\n",
    "#Submission received. Submission ID: XXXXX\n",
    "#Open in browser (y/N)?"
   ]
  },
  {
   "cell_type": "code",
   "execution_count": null,
   "metadata": {},
   "outputs": [],
   "source": [
    "\"\"\"\n",
    "print(output)\n",
    "#['Submission received. Submission ID: XXXXX.\\r'\n",
    "submission_id = str(output).strip('\\r')\n",
    "submission_id = submission_id.split(\"\\n\")[0].split(\" \")[-1]\n",
    "submission_id = submission_id[:-2]\n",
    "\n",
    "url = \"open.kattis.com/submission/\" + submission_id\n",
    "print(url)\n",
    "!curl $url\n",
    "\"\"\""
   ]
  },
  {
   "cell_type": "code",
   "execution_count": null,
   "metadata": {},
   "outputs": [],
   "source": []
  }
 ],
 "metadata": {
  "kernelspec": {
   "display_name": "Python 3",
   "name": "python3"
  },
  "language_info": {
   "codemirror_mode": {
    "name": "ipython"
   },
   "file_extension": ".py",
   "mimetype": "text/x-python",
   "name": "python",
   "nbconvert_exporter": "python",
   "version": "3"
  }
 },
 "nbformat": 4,
 "nbformat_minor": 2
}