{
 "cells": [
  {
   "cell_type": "code",
   "execution_count": null,
   "metadata": {
    "collapsed": true,
    "pycharm": {
     "name": "#%%\n",
     "is_executing": false
    }
   },
   "outputs": [],
   "source": [
    "import numpy as np\n",
    "from mst_algorithm import MST\n",
    "from mst_graphs_local import NetworkXGraph\n",
    "import networkx as nx\n",
    "import random\n",
    "import time\n"
   ]
  },
  {
   "cell_type": "code",
   "execution_count": null,
   "metadata": {
    "pycharm": {
     "name": "#%% Constants\n",
     "is_executing": false
    }
   },
   "outputs": [],
   "source": [
    "global_size = 100\n",
    "global_degree = 4\n",
    "global_max_weight = 10\n",
    "global_max_read = 300\n",
    "\n",
    "def print_constants():\n",
    "    output = \"Size: \"+str(global_size)+\"\\n\"+\"Degree: \"+str(global_degree)+\"\\n\"+\"Max Weight: \"+str(global_max_weight)+\"\\n\"+\"Max Read: \"+str(global_max_read)+\"\\n\"\n",
    "    print(output)\n",
    " "
   ]
  },
  {
   "cell_type": "code",
   "execution_count": null,
   "outputs": [],
   "source": [
    "def random_graph(degree,size):\n",
    "    graph = nx.generators.random_regular_graph(degree, size)\n",
    "    return graph\n",
    "    "
   ],
   "metadata": {
    "collapsed": false,
    "pycharm": {
     "name": "#%% Random NetworkX graph\n",
     "is_executing": false
    }
   }
  },
  {
   "cell_type": "code",
   "execution_count": null,
   "outputs": [],
   "source": [
    "def expander_graph(size):\n",
    "    graph = nx.generators.paley_graph(size)\n",
    "    return graph\n"
   ],
   "metadata": {
    "collapsed": false,
    "pycharm": {
     "name": "#%% Expanders NetworkX Graph\n",
     "is_executing": false
    }
   }
  },
  {
   "cell_type": "code",
   "execution_count": null,
   "outputs": [],
   "source": [
    "def complete_graph(size):\n",
    "    graph = nx.generators.complete_graph(size)\n",
    "    return graph"
   ],
   "metadata": {
    "collapsed": false,
    "pycharm": {
     "name": "#%% Complete graph\n",
     "is_executing": false
    }
   }
  },
  {
   "cell_type": "code",
   "execution_count": null,
   "outputs": [],
   "source": [
    "def cycle_graph(size):\n",
    "    graph = nx.generators.cycle_graph(size)\n",
    "    return graph\n"
   ],
   "metadata": {
    "collapsed": false,
    "pycharm": {
     "name": "#%% Cycle graph\n",
     "is_executing": false
    }
   }
  },
  {
   "cell_type": "code",
   "execution_count": null,
   "outputs": [],
   "source": [
    "def assign_random_edge_weights(graph, max_weight):\n",
    "    for (u, v) in graph.edges():\n",
    "        graph.edges[u, v]['weight'] = random.randint(1, max_weight)\n",
    "    return graph\n",
    "\n",
    "def assign_exponantion_edge_weights(graph):\n",
    "    for (u, v) in graph.edges():\n",
    "        graph.edges[u, v]['weight'] = round(np.random.exponantial())\n",
    "    return graph\n",
    "\n",
    "def assign_normal_edge_weights(graph, max_weight):\n",
    "    for (u, v) in graph.edges():\n",
    "        graph.edges[u, v]['weight'] = round(np.random.normal(loc=(max_weight/2)))\n",
    "    return graph"
   ],
   "metadata": {
    "collapsed": false,
    "pycharm": {
     "name": "#%% Assign edge weights\n",
     "is_executing": false
    }
   }
  },
  {
   "cell_type": "code",
   "execution_count": null,
   "outputs": [],
   "source": [
    "def kruskall_comparison():\n",
    "    print(\"Create graph with the following constants:\")\n",
    "    print_constants()\n",
    "    \n",
    "    #Chose here different graph options from above\n",
    "    #graph = random_graph(global_degree,global_size)\n",
    "    graph = complete_graph(global_size)\n",
    "\n",
    "    #Chose here different weight sampling options from above\n",
    "    graph = assign_random_edge_weights(graph,global_max_weight)\n",
    "    \n",
    "    #Our algorithm\n",
    "    our_start_time = time.time()\n",
    "    approx = MST(\n",
    "        NetworkXGraph(graph, global_size, global_max_weight, global_max_read)\n",
    "    ).approx_weight()\n",
    "    our_runtime = time.time() - our_start_time\n",
    "    print(\"Our Runtime: \"+str(our_runtime))\n",
    "    print(\"Our MST weight approx. for random graph:\", approx,\"\\n\")\n",
    "    \n",
    "    #NetworkX Kruskall Algorithm\n",
    "    kruskall_start_time = time.time()\n",
    "    mst=nx.minimum_spanning_tree(graph)\n",
    "    kruskall_time = time.time()-kruskall_start_time\n",
    "    print(\"NetworkX Kruskall runtime: \"+str(kruskall_time))\n",
    "\n",
    "    gt_w = sum(graph.edges[e][\"weight\"] for e in mst.edges)\n",
    "    print(\"ground truth weight\", gt_w)\n",
    "\n",
    "    ratio = max(gt_w, approx) / min(gt_w, approx)\n",
    "    print(\"error %\", 100 * (ratio - 1))\n",
    "    "
   ],
   "metadata": {
    "collapsed": false,
    "pycharm": {
     "name": "#%% Running against nx.kruskall\n",
     "is_executing": false
    }
   }
  },
  {
   "cell_type": "code",
   "execution_count": null,
   "metadata": {},
   "outputs": [],
   "source": [
    "kruskall_comparison()"
   ]
  }
 ],
 "metadata": {
  "kernelspec": {
   "name": "python3",
   "language": "python",
   "display_name": "Python 3"
  },
  "language_info": {
   "codemirror_mode": {
    "name": "ipython",
    "version": 3
   },
   "file_extension": ".py",
   "mimetype": "text/x-python",
   "name": "python",
   "nbconvert_exporter": "python",
   "pygments_lexer": "ipython3",
   "version": "3.8.5-final"
  },
  "pycharm": {
   "stem_cell": {
    "cell_type": "raw",
    "source": [],
    "metadata": {
     "collapsed": false
    }
   }
  }
 },
 "nbformat": 4,
 "nbformat_minor": 1
}