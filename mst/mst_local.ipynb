{
 "cells": [
  {
   "cell_type": "code",
   "execution_count": 21,
   "metadata": {
    "pycharm": {
     "is_executing": false,
     "name": "#%%\n"
    }
   },
   "outputs": [],
   "source": [
    "import matplotlib.pyplot as plt\n",
    "import numpy as np\n",
    "from mst_algorithm import MST\n",
    "from mst_graphs_local import NetworkXGraph\n",
    "import networkx as nx\n",
    "import random\n",
    "import time\n",
    "from enum import Enum\n"
   ]
  },
  {
   "cell_type": "code",
   "execution_count": 22,
   "metadata": {
    "pycharm": {
     "is_executing": false,
     "name": "#%% Constants\n"
    }
   },
   "outputs": [],
   "source": [
    "global_size = 1000\n",
    "global_degree = 4\n",
    "global_max_weight = 100\n",
    "global_max_read = 50\n",
    "\n",
    "def print_constants(graph_type, weight_distribution):\n",
    "    output = \"Size: \"+str(global_size)+\"\\n\"+\"Degree: \"+str(global_degree)+\"\\n\"+\"Max Weight: \"+str(global_max_weight)+\"\\n\"+\"Max Read: \"+str(global_max_read)+\"\\n\"+\"Graph Type: \"+str(graph_type)+\"\\n\"+\"Weight Distribution: \"+str(weight_distribution)+\"\\n\"\n",
    "    print(output)"
   ]
  },
  {
   "cell_type": "code",
   "execution_count": 23,
   "metadata": {
    "pycharm": {
     "is_executing": false,
     "name": "#%% Graph generation functions\n"
    }
   },
   "outputs": [],
   "source": [
    "#Random NetworkX graph\n",
    "\n",
    "def random_graph(degree,size):\n",
    "    graph = nx.generators.random_regular_graph(degree, size)\n",
    "    print(\"checkpoint random graph gen\")\n",
    "    print(graph)\n",
    "    return graph\n",
    "    \n",
    "#Expanders NetworkX Graph\n",
    "\n",
    "def expander_graph(size):\n",
    "    graph = nx.generators.paley_graph(size)\n",
    "    return graph\n",
    "\n",
    "\n",
    "# Complete graph\n",
    "\n",
    "def complete_graph(size):\n",
    "    graph = nx.generators.complete_graph(size)\n",
    "    return graph\n",
    "\n",
    "# Cycle graph\n",
    "\n",
    "def cycle_graph(size):\n",
    "    graph = nx.generators.cycle_graph(size)\n",
    "    return graph\n"
   ]
  },
  {
   "cell_type": "code",
   "execution_count": 24,
   "metadata": {
    "pycharm": {
     "is_executing": false,
     "name": "#%% Assign edge weights\n"
    }
   },
   "outputs": [],
   "source": [
    "def assign_random_edge_weights(graph, max_weight):\n",
    "    print(\"checkpoint random weights\")\n",
    "    for (u, v) in graph.edges():\n",
    "        graph.edges[u, v]['weight'] = random.randint(1, max_weight)\n",
    "    return graph\n",
    "\n",
    "def assign_exponential_edge_weights(graph,custom_scale=1):\n",
    "    for (u, v) in graph.edges():\n",
    "        graph.edges[u, v]['weight'] = round(np.random.exponential(scale=custom_scale))\n",
    "    return graph\n",
    "\n",
    "def assign_normal_edge_weights(graph, max_weight):\n",
    "    for (u, v) in graph.edges():\n",
    "        graph.edges[u, v]['weight'] = round(np.random.normal(loc=(max_weight/2)))\n",
    "    return graph"
   ]
  },
  {
   "cell_type": "code",
   "execution_count": 25,
   "metadata": {
    "pycharm": {
     "is_executing": false,
     "name": "#%% Running against nx.kruskall\n"
    }
   },
   "outputs": [],
   "source": [
    "class GraphType(Enum):\n",
    "    RANDOM = 'ramdom_graph'\n",
    "    EXPANDER = 'expander_graph'\n",
    "    COMPLETE = 'complete_graph'\n",
    "    CYCLE = 'cycle_graph'\n",
    "    \n",
    "class WeightDistribution(Enum):\n",
    "    RANDOM = 'random_weights'\n",
    "    EXPONENTIAL = 'exponantial_weights'\n",
    "    NORMAL = 'normal_weights'\n",
    "    \n",
    "\n",
    "def kruskall_comparison(custom_size=global_size,graph_type=GraphType.RANDOM,weight_distribution=WeightDistribution.RANDOM):\n",
    "    \n",
    "    if global_max_read >= custom_size:\n",
    "        raise Exception(\"Please reduce global_max_read or increase node size!\")\n",
    "    \n",
    "    print(\"Create graph with the following constants:\")\n",
    "    print_constants(graph_type,weight_distribution)\n",
    "    \n",
    "    #Chose here different graph options from above\n",
    "    graph = None\n",
    "    \n",
    "    if graph_type is GraphType.RANDOM:\n",
    "        graph = random_graph(global_degree,custom_size)\n",
    "    elif graph_type is GraphType.EXPANDER:\n",
    "        graph = expander_graph(custom_size)\n",
    "    elif graph_type is GraphType.COMPLETE:\n",
    "        graph = complete_graph(custom_size)\n",
    "    elif graph_type is GraphType.CYCLE:\n",
    "        graph = complete_graph(custom_size)\n",
    "            \n",
    "    print(\"checkpoint after graph generation\")        \n",
    "    print(graph)        \n",
    "            \n",
    "    #Chose here different weight sampling options from above\n",
    "    if weight_distribution is WeightDistribution.RANDOM:\n",
    "        graph = assign_random_edge_weights(graph, global_max_weight)\n",
    "    elif weight_distribution is WeightDistribution.EXPONENTIAL:\n",
    "        graph = assign_exponential_edge_weights(graph)\n",
    "    elif weight_distribution is WeightDistribution.NORMAL:\n",
    "        graph = assign_normal_edge_weights(graph,global_max_weight)\n",
    "        \n",
    "    #Our algorithm\n",
    "    our_start_time = time.time()\n",
    "    approx = MST(\n",
    "        NetworkXGraph(graph, custom_size, global_max_weight, global_max_read)\n",
    "    ).approx_weight()\n",
    "    our_runtime = time.time() - our_start_time\n",
    "    print(\"Our Runtime: \"+str(our_runtime))\n",
    "    #print(\"Our MST weight approx. for random graph:\", approx,\"\\n\")\n",
    "    \n",
    "    #NetworkX Kruskall Algorithm\n",
    "    kruskall_start_time = time.time()\n",
    "    mst=nx.minimum_spanning_tree(graph)\n",
    "    kruskall_time = time.time()-kruskall_start_time\n",
    "    print(\"NetworkX Kruskall runtime: \"+str(kruskall_time))\n",
    "\n",
    "    gt_w = sum(graph.edges[e][\"weight\"] for e in mst.edges)\n",
    "    print(\"ground truth weight\", gt_w)\n",
    "\n",
    "    ratio = max(gt_w, approx) / min(gt_w, approx)\n",
    "    err = 100 * (ratio - 1)\n",
    "    print(\"error %\", err)\n",
    "    \n",
    "    results = {\n",
    "        \"our_time\" : our_runtime,\n",
    "        \"kuskrall_time\" : kruskall_time,\n",
    "        \"groundtruth\" : gt_w,\n",
    "        \"approximation\" : approx,\n",
    "        \"error\" : err\n",
    "    }\n",
    "    \n",
    "    return results"
   ]
  },
  {
   "cell_type": "code",
   "execution_count": 26,
   "metadata": {
    "pycharm": {
     "is_executing": false,
     "name": "#%% Test case that increases node size\n"
    }
   },
   "outputs": [],
   "source": [
    "def increasing_runtime_performance():\n",
    "    sizes = []\n",
    "    o_times = []\n",
    "    k_times = []\n",
    "    for size in range(100,1000,100):\n",
    "        print(size)\n",
    "        try:\n",
    "            results = kruskall_comparison(custom_size=size, graph_type=GraphType.RANDOM, weight_distribution=WeightDistribution.RANDOM)\n",
    "        except Exception as e:\n",
    "            print(e)\n",
    "        sizes.append(size)\n",
    "        o_times.append(results[\"our_time\"])\n",
    "        k_times.append(results[\"kuskrall_time\"])\n",
    "    plt.plot(sizes,o_times)\n",
    "    plt.plot(sizes,k_times)\n",
    "    plt.show()"
   ]
  },
  {
   "cell_type": "code",
   "execution_count": 27,
   "metadata": {
    "pycharm": {
     "is_executing": false,
     "name": "#%%\n"
    }
   },
   "outputs": [
    {
     "name": "stdout",
     "text": [
      "100\n",
      "Create graph with the following constants:\n",
      "Size: 1000\n",
      "Degree: 4\n",
      "Max Weight: 100\n",
      "Max Read: 50\n",
      "Graph Type: GraphType.RANDOM\n",
      "Weight Distribution: WeightDistribution.RANDOM\n",
      "\n",
      "checkpoint random graph gen\n",
      "\n",
      "checkpoint after graph generation\n",
      "\n",
      "checkpoint random weights\n",
      "Our Runtime: 0.03560972213745117\n",
      "NetworkX Kruskall runtime: 0.0015532970428466797\n",
      "ground truth weight 2803\n",
      "error % 49.89304812834226\n",
      "200\n",
      "Create graph with the following constants:\n",
      "Size: 1000\n",
      "Degree: 4\n",
      "Max Weight: 100\n",
      "Max Read: 50\n",
      "Graph Type: GraphType.RANDOM\n",
      "Weight Distribution: WeightDistribution.RANDOM\n",
      "\n",
      "checkpoint random graph gen\n",
      "\n",
      "checkpoint after graph generation\n",
      "\n",
      "checkpoint random weights\n",
      "Our Runtime: 0.04723215103149414\n",
      "NetworkX Kruskall runtime: 0.002705097198486328\n",
      "ground truth weight 6210\n",
      "error % 9.581320450885666\n",
      "300\n",
      "Create graph with the following constants:\n",
      "Size: 1000\n",
      "Degree: 4\n",
      "Max Weight: 100\n",
      "Max Read: 50\n",
      "Graph Type: GraphType.RANDOM\n",
      "Weight Distribution: WeightDistribution.RANDOM\n",
      "\n",
      "checkpoint random graph gen\n",
      "\n",
      "checkpoint after graph generation\n",
      "\n",
      "checkpoint random weights\n",
      "Our Runtime: 0.041378021240234375\n",
      "NetworkX Kruskall runtime: 0.0032110214233398438\n",
      "ground truth weight 7947\n",
      "error % 36.38235798867342\n",
      "400\n",
      "Create graph with the following constants:\n",
      "Size: 1000\n",
      "Degree: 4\n",
      "Max Weight: 100\n",
      "Max Read: 50\n",
      "Graph Type: GraphType.RANDOM\n",
      "Weight Distribution: WeightDistribution.RANDOM\n",
      "\n",
      "checkpoint random graph gen\n",
      "\n",
      "checkpoint after graph generation\n",
      "\n",
      "checkpoint random weights\n",
      "Our Runtime: 0.03419303894042969\n",
      "NetworkX Kruskall runtime: 0.007608175277709961\n",
      "ground truth weight 11810\n",
      "error % 22.256728778467917\n",
      "500\n",
      "Create graph with the following constants:\n",
      "Size: 1000\n",
      "Degree: 4\n",
      "Max Weight: 100\n",
      "Max Read: 50\n",
      "Graph Type: GraphType.RANDOM\n",
      "Weight Distribution: WeightDistribution.RANDOM\n",
      "\n",
      "checkpoint random graph gen\n",
      "\n",
      "checkpoint after graph generation\n",
      "\n",
      "checkpoint random weights\n",
      "Our Runtime: 0.06312990188598633\n",
      "NetworkX Kruskall runtime: 0.007773876190185547\n",
      "ground truth weight 14053\n",
      "error % 14.057300543787022\n",
      "600\n",
      "Create graph with the following constants:\n",
      "Size: 1000\n",
      "Degree: 4\n",
      "Max Weight: 100\n",
      "Max Read: 50\n",
      "Graph Type: GraphType.RANDOM\n",
      "Weight Distribution: WeightDistribution.RANDOM\n",
      "\n",
      "checkpoint random graph gen\n",
      "\n",
      "checkpoint after graph generation\n",
      "\n",
      "checkpoint random weights\n",
      "Our Runtime: 0.05067634582519531\n",
      "NetworkX Kruskall runtime: 0.0224912166595459\n",
      "ground truth weight 15188\n",
      "error % 23.41947017714936\n",
      "700\n",
      "Create graph with the following constants:\n",
      "Size: 1000\n",
      "Degree: 4\n",
      "Max Weight: 100\n",
      "Max Read: 50\n",
      "Graph Type: GraphType.RANDOM\n",
      "Weight Distribution: WeightDistribution.RANDOM\n",
      "\n",
      "checkpoint random graph gen\n",
      "\n",
      "checkpoint after graph generation\n",
      "\n",
      "checkpoint random weights\n",
      "Our Runtime: 0.07409095764160156\n",
      "NetworkX Kruskall runtime: 0.02080392837524414\n",
      "ground truth weight 18459\n",
      "error % 22.269325031463193\n",
      "800\n",
      "Create graph with the following constants:\n",
      "Size: 1000\n",
      "Degree: 4\n",
      "Max Weight: 100\n",
      "Max Read: 50\n",
      "Graph Type: GraphType.RANDOM\n",
      "Weight Distribution: WeightDistribution.RANDOM\n",
      "\n",
      "checkpoint random graph gen\n",
      "\n",
      "checkpoint after graph generation\n",
      "\n",
      "checkpoint random weights\n",
      "Our Runtime: 0.05263400077819824\n",
      "NetworkX Kruskall runtime: 0.014503240585327148\n",
      "ground truth weight 21778\n",
      "error % 16.784641784641785\n",
      "900\n",
      "Create graph with the following constants:\n",
      "Size: 1000\n",
      "Degree: 4\n",
      "Max Weight: 100\n",
      "Max Read: 50\n",
      "Graph Type: GraphType.RANDOM\n",
      "Weight Distribution: WeightDistribution.RANDOM\n",
      "\n",
      "checkpoint random graph gen\n",
      "\n",
      "checkpoint after graph generation\n",
      "\n",
      "checkpoint random weights\n",
      "Our Runtime: 0.02965998649597168\n",
      "NetworkX Kruskall runtime: 0.013948917388916016\n",
      "ground truth weight 23251\n",
      "error % 30.630934322152935\n"
     ],
     "output_type": "stream"
    },
    {
     "data": {
      "text/plain": "<Figure size 432x288 with 1 Axes>",
      "image/png": "[encoded data removed]"
     },
     "metadata": {
      "needs_background": "light"
     },
     "output_type": "display_data"
    }
   ],
   "source": [
    "increasing_runtime_performance()"
   ]
  },
  {
   "cell_type": "code",
   "execution_count": null,
   "outputs": [],
   "source": [],
   "metadata": {
    "collapsed": false,
    "pycharm": {
     "name": "#%%\n"
    }
   }
  },
  {
   "cell_type": "code",
   "execution_count": null,
   "outputs": [],
   "source": [],
   "metadata": {
    "collapsed": false,
    "pycharm": {
     "name": "#%%\n"
    }
   }
  },
  {
   "cell_type": "code",
   "execution_count": null,
   "metadata": {},
   "outputs": [],
   "source": []
  }
 ],
 "metadata": {
  "kernelspec": {
   "display_name": "Python 3",
   "language": "python",
   "name": "python3"
  },
  "language_info": {
   "codemirror_mode": {
    "name": "ipython",
    "version": 3
   },
   "file_extension": ".py",
   "mimetype": "text/x-python",
   "name": "python",
   "nbconvert_exporter": "python",
   "pygments_lexer": "ipython3",
   "version": "3.7.9"
  },
  "pycharm": {
   "stem_cell": {
    "cell_type": "raw",
    "source": [],
    "metadata": {
     "collapsed": false
    }
   }
  }
 },
 "nbformat": 4,
 "nbformat_minor": 1
}