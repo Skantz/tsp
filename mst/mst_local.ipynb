{
 "cells": [
  {
   "cell_type": "code",
   "execution_count": 4,
   "metadata": {
    "collapsed": true,
    "pycharm": {
     "name": "#%%\n",
     "is_executing": false
    }
   },
   "outputs": [],
   "source": [
    "from mst_algorithm import MST\n",
    "from mst_graphs_local import NetworkXGraph\n",
    "import networkx as nx\n",
    "import random"
   ]
  },
  {
   "cell_type": "code",
   "execution_count": 5,
   "outputs": [],
   "source": [
    "def assign_edge_weights(graph, max_weight):\n",
    "    for (u, v) in graph.edges():\n",
    "        graph.edges[u, v]['weight'] = random.randint(0, max_weight)\n",
    "    return graph"
   ],
   "metadata": {
    "collapsed": false,
    "pycharm": {
     "name": "#%%\n",
     "is_executing": false
    }
   }
  },
  {
   "cell_type": "code",
   "execution_count": 6,
   "metadata": {
    "pycharm": {
     "name": "#%% Constants\n",
     "is_executing": false
    }
   },
   "outputs": [],
   "source": [
    "size = 1000\n",
    "degree = 4\n",
    "max_weight = 10\n",
    "max_read = 300\n",
    "\n",
    "def print_constants():\n",
    "    output = \"Size: \"+str(size)+\"\\n\"+\"Degree: \"+str(degree)+\"\\n\"+\"Max Weight: \"+str(max_weight)+\"\\n\"+\"Max Read: \"+str(max_read)\n",
    "    print(output)\n",
    " "
   ]
  },
  {
   "cell_type": "code",
   "execution_count": 15,
   "outputs": [
    {
     "name": "stdout",
     "text": [
      "Our MST weight approx. for random graph: 2404\n",
      "Size: 1000\n",
      "Degree: 4\n",
      "Max Weight: 10\n",
      "Max Read: 300\n"
     ],
     "output_type": "stream"
    }
   ],
   "source": [
    "graph = nx.generators.random_regular_graph(degree, size)\n",
    "graph = assign_edge_weights(graph,max_weight)\n",
    "\n",
    "approx = MST(\n",
    "    NetworkXGraph(graph, size, max_weight, max_read)\n",
    ").approx_weight()\n",
    "\n",
    "print(\"Our MST weight approx. for random graph:\", approx)\n",
    "print_constants()"
   ],
   "metadata": {
    "collapsed": false,
    "pycharm": {
     "name": "#%% Random NetworkX graph\n",
     "is_executing": false
    }
   }
  },
  {
   "cell_type": "code",
   "execution_count": 11,
   "outputs": [
    {
     "name": "stdout",
     "text": [
      "Our MST weight approx. for expanders graph: 999\n",
      "Size: 1000\n",
      "Degree: 4\n",
      "Max Weight: 10\n",
      "Max Read: 300\n"
     ],
     "output_type": "stream"
    }
   ],
   "source": [
    "graph = nx.generators.paley_graph(size)\n",
    "graph = assign_edge_weights(graph,max_weight)\n",
    "approx = MST(\n",
    "    NetworkXGraph(graph, size, max_weight, max_read)\n",
    ").approx_weight()\n",
    "\n",
    "print(\"Our MST weight approx. for expanders graph:\", approx)\n",
    "print_constants()"
   ],
   "metadata": {
    "collapsed": false,
    "pycharm": {
     "name": "#%% Expanders NetworkX Graph\n",
     "is_executing": false
    }
   }
  },
  {
   "cell_type": "code",
   "execution_count": 12,
   "outputs": [
    {
     "name": "stdout",
     "text": [
      "Our MST weight approx. for complete graph: 999\n",
      "Size: 1000\n",
      "Degree: 4\n",
      "Max Weight: 10\n",
      "Max Read: 300\n"
     ],
     "output_type": "stream"
    }
   ],
   "source": [
    "graph = nx.generators.complete_graph(size)\n",
    "graph = assign_edge_weights(graph,max_weight)\n",
    "approx = MST(\n",
    "    NetworkXGraph(graph, size, max_weight, max_read)\n",
    ").approx_weight()\n",
    "\n",
    "print(\"Our MST weight approx. for complete graph:\", approx)\n",
    "print_constants()"
   ],
   "metadata": {
    "collapsed": false,
    "pycharm": {
     "name": "#%% Complete graph\n",
     "is_executing": false
    }
   }
  },
  {
   "cell_type": "code",
   "execution_count": 13,
   "outputs": [
    {
     "name": "stdout",
     "text": [
      "Our MST weight approx. for expanders graph: 5489\n",
      "Size: 1000\n",
      "Degree: 4\n",
      "Max Weight: 10\n",
      "Max Read: 300\n"
     ],
     "output_type": "stream"
    }
   ],
   "source": [
    "graph = nx.generators.cycle_graph(size)\n",
    "graph = assign_edge_weights(graph,max_weight)\n",
    "approx = MST(\n",
    "    NetworkXGraph(graph, size, max_weight, max_read)\n",
    ").approx_weight()\n",
    "\n",
    "print(\"Our MST weight approx. for cycle graph:\", approx)\n",
    "print_constants()\n"
   ],
   "metadata": {
    "collapsed": false,
    "pycharm": {
     "name": "#%% Cycle graph\n",
     "is_executing": false
    }
   }
  }
 ],
 "metadata": {
  "kernelspec": {
   "name": "python3",
   "language": "python",
   "display_name": "Python 3"
  },
  "language_info": {
   "codemirror_mode": {
    "name": "ipython",
    "version": 3
   },
   "file_extension": ".py",
   "mimetype": "text/x-python",
   "name": "python",
   "nbconvert_exporter": "python",
   "pygments_lexer": "ipython3",
   "version": "3.7.9"
  },
  "pycharm": {
   "stem_cell": {
    "cell_type": "raw",
    "source": [],
    "metadata": {
     "collapsed": false
    }
   }
  }
 },
 "nbformat": 4,
 "nbformat_minor": 1
}