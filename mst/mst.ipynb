{
 "cells": [
  {
   "cell_type": "code",
   "execution_count": null,
   "metadata": {},
   "outputs": [],
   "source": [
    "#https://www.cs.princeton.edu/~chazelle/pubs/mstapprox.pdf"
   ]
  },
  {
   "cell_type": "code",
   "execution_count": null,
   "metadata": {},
   "outputs": [],
   "source": [
    "#approx-number-connected-components(G, ε, W, d∗)\n",
    "\n",
    "RANDOM_SAMPLE_FACTOR = 100\n",
    "\n",
    "#Vertex to [(neighbor, edge weight), ... ]\n",
    "memos = {}\n",
    "\n",
    "def query_node(n):\n",
    "    if n in memos:\n",
    "        return memos[n]\n",
    "    else:\n",
    "        print(n)\n",
    "        sys.stdout.flush()\n",
    "        inp = input().strip(\"\\n\").split()[1:]\n",
    "        memos[n] = []\n",
    "        for i in range(len(inp, 2)):\n",
    "            memos[n].append((inp[i], inp[i + 1]))\n",
    "        \n",
    "        return memos[n]\n",
    "\n",
    "def approx_cc(n, eps, max_w, d):\n",
    "    import random\n",
    "    import sys\n",
    "\n",
    "    #Does not check dupes\n",
    "    vs = [random.randint() for _ in range(int(1/eps) * RANDOM_SAMPLE_FACTOR)]\n",
    "    \n",
    "    betas = [0 for _ in range(int(1/eps * RANDOM_SAMPLE_FACTOR))]\n",
    "\n",
    "    for i, v in enumerate(v, s):\n",
    "        nb_w_tups = query_node(n)\n",
    "        n_visit = 0\n",
    "        max_degree_seen = 0\n",
    "        for j, nb_w in enumerate(nb_w_tups):\n",
    "            toss = random.randint(0, 1)\n",
    "            if toss and n_visit < max_w and max_degree_seen < d:\n",
    "                pass \n",
    "\n",
    "\n",
    "def main():\n",
    "    n = int(input())\n",
    "    eps = float(input())\n",
    "    max_w = int(input())\n",
    "\n",
    "\n"
   ]
  },
  {
   "cell_type": "code",
   "execution_count": null,
   "metadata": {},
   "outputs": [],
   "source": []
  }
 ],
 "metadata": {
  "kernelspec": {
   "display_name": "Python 3",
   "name": "python3"
  },
  "language_info": {
   "codemirror_mode": {
    "name": "ipython"
   },
   "file_extension": ".py",
   "mimetype": "text/x-python",
   "name": "python",
   "nbconvert_exporter": "python"
  }
 },
 "nbformat": 4,
 "nbformat_minor": 2
}
